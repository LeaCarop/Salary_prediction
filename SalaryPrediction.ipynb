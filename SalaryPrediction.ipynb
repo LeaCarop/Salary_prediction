{
  "nbformat": 4,
  "nbformat_minor": 0,
  "metadata": {
    "colab": {
      "name": "SalaryPrediction.ipynb",
      "provenance": [],
      "include_colab_link": true
    },
    "kernelspec": {
      "name": "python3",
      "display_name": "Python 3"
    },
    "language_info": {
      "name": "python"
    }
  },
  "cells": [
    {
      "cell_type": "markdown",
      "metadata": {
        "id": "view-in-github",
        "colab_type": "text"
      },
      "source": [
        "<a href=\"https://colab.research.google.com/github/LeaCarop/Salary_prediction/blob/main/SalaryPrediction.ipynb\" target=\"_parent\"><img src=\"https://colab.research.google.com/assets/colab-badge.svg\" alt=\"Open In Colab\"/></a>"
      ]
    },
    {
      "cell_type": "markdown",
      "source": [
        "## **Adult Census Income dataset**\n",
        "\n",
        "### *Variables numéricas*\n",
        "\n",
        "*   `age`: The age of the individual in years.\n",
        "*   `fnlwgt`: The number of individuals the Census Organizations believes that set of observations represents.\n",
        "*   `education_num`:  An enumeration of the categorical representation of education. The higher the number, the higher the education that individual achieved. For example, an `education_num` of `11` represents `Assoc_voc` (associate degree at a vocational school), an `education_num` of `13` represents `Bachelors`, and an `education_num` of `9` represents `HS-grad` (high school graduate).\n",
        "*   `capital_gain`: Capital gain made by the individual, represented in US Dollars.\n",
        "*   `capital_loss`: Capital loss mabe by the individual, represented in US Dollars.\n",
        "*   `hours_per_week`: Hours worked per week.\n",
        "\n",
        "### *Variables categóricas*\n",
        "\n",
        "*   `workclass`: The individual's type of employer. Examples include: `Private`, `Self-emp-not-inc`, `Self-emp-inc`, `Federal-gov`, `Local-gov`, `State-gov`, `Without-pay`, and `Never-worked`.\n",
        "*   `education`: The highest level of education achieved for that individual.\n",
        "*   `marital_status`: Marital status of the individual. Examples include: `Married-civ-spouse`, `Divorced`, `Never-married`, `Separated`, `Widowed`, `Married-spouse-absent`, and `Married-AF-spouse`.\n",
        "*   `occupation`: The occupation of the individual. Example include: `tech-support`, `Craft-repair`, `Other-service`, `Sales`, `Exec-managerial` and more.\n",
        "*   `relationship`:  The relationship of each individual in a household. Examples include: `Wife`, `Own-child`, `Husband`, `Not-in-family`, `Other-relative`, and `Unmarried`.\n",
        "*   `gender`:  Gender of the individual available only in binary choices: `Female` or `Male`.\n",
        "*   `race`: `White`, `Asian-Pac-Islander`, `Amer-Indian-Eskimo`, `Black`, and `Other`. \n",
        "*   `native_country`: Country of origin of the individual. Examples include: `United-States`, `Cambodia`, `England`, `Puerto-Rico`, `Canada`, `Germany`, `Outlying-US(Guam-USVI-etc)`, `India`, `Japan`, and more.\n",
        "\n",
        "**Cargar librerías**\n"
      ],
      "metadata": {
        "id": "sHiBbo0dyV5f"
      }
    },
    {
      "cell_type": "code",
      "execution_count": null,
      "metadata": {
        "colab": {
          "base_uri": "https://localhost:8080/"
        },
        "id": "jDdjdHHxyQyL",
        "outputId": "ab844445-0d9a-4bfa-ea31-734bb289794e"
      },
      "outputs": [
        {
          "output_type": "stream",
          "name": "stdout",
          "text": [
            "Collecting facets-overview==1.0.0\n",
            "  Downloading facets_overview-1.0.0-py2.py3-none-any.whl (24 kB)\n",
            "Requirement already satisfied: protobuf>=3.7.0 in /usr/local/lib/python3.7/dist-packages (from facets-overview==1.0.0) (3.17.3)\n",
            "Requirement already satisfied: pandas>=0.22.0 in /usr/local/lib/python3.7/dist-packages (from facets-overview==1.0.0) (1.3.5)\n",
            "Requirement already satisfied: numpy>=1.16.0 in /usr/local/lib/python3.7/dist-packages (from facets-overview==1.0.0) (1.21.5)\n",
            "Requirement already satisfied: python-dateutil>=2.7.3 in /usr/local/lib/python3.7/dist-packages (from pandas>=0.22.0->facets-overview==1.0.0) (2.8.2)\n",
            "Requirement already satisfied: pytz>=2017.3 in /usr/local/lib/python3.7/dist-packages (from pandas>=0.22.0->facets-overview==1.0.0) (2018.9)\n",
            "Requirement already satisfied: six>=1.9 in /usr/local/lib/python3.7/dist-packages (from protobuf>=3.7.0->facets-overview==1.0.0) (1.15.0)\n",
            "Installing collected packages: facets-overview\n",
            "Successfully installed facets-overview-1.0.0\n"
          ]
        }
      ],
      "source": [
        "%tensorflow_version 2.x\n",
        "from __future__ import absolute_import, division, print_function, unicode_literals\n",
        "\n",
        "import numpy as np\n",
        "import pandas as pd\n",
        "import tensorflow as tf\n",
        "from tensorflow.keras import layers\n",
        "from matplotlib import pyplot as plt\n",
        "from matplotlib import rcParams\n",
        "import seaborn as sns\n",
        "\n",
        "pd.options.display.max_rows = 10\n",
        "pd.options.display.float_format = \"{:.1f}\".format\n",
        "\n",
        "from google.colab import widgets\n",
        "\n",
        "from IPython.core.display import display, HTML\n",
        "import base64\n",
        "!pip install facets-overview==1.0.0\n",
        "from facets_overview.feature_statistics_generator import FeatureStatisticsGenerator"
      ]
    },
    {
      "cell_type": "markdown",
      "source": [
        "**Descargar dataset**"
      ],
      "metadata": {
        "id": "me6INayC13Zp"
      }
    },
    {
      "cell_type": "code",
      "source": [
        "COLUMNS = [\"age\", \"workclass\", \"fnlwgt\", \"education\", \"education_num\",\n",
        "           \"marital_status\", \"occupation\", \"relationship\", \"race\", \"gender\",\n",
        "           \"capital_gain\", \"capital_loss\", \"hours_per_week\", \"native_country\",\n",
        "           \"income_bracket\"]\n",
        "\n",
        "train_csv = tf.keras.utils.get_file('adult.data', \n",
        "  'https://download.mlcc.google.com/mledu-datasets/adult_census_train.csv')\n",
        "test_csv = tf.keras.utils.get_file('adult.data', \n",
        "  'https://download.mlcc.google.com/mledu-datasets/adult_census_test.csv')\n",
        "\n",
        "train_df = pd.read_csv(train_csv, names=COLUMNS, sep=r'\\s*,\\s*', \n",
        "                       engine='python', na_values=\"?\")\n",
        "test_df = pd.read_csv(test_csv, names=COLUMNS, sep=r'\\s*,\\s*', skiprows=[0],\n",
        "                      engine='python', na_values=\"?\")"
      ],
      "metadata": {
        "colab": {
          "base_uri": "https://localhost:8080/"
        },
        "id": "DaQFlBE017PT",
        "outputId": "290f3796-f8dd-4be8-95c4-97ae5e91cbd8"
      },
      "execution_count": null,
      "outputs": [
        {
          "output_type": "stream",
          "name": "stdout",
          "text": [
            "Downloading data from https://download.mlcc.google.com/mledu-datasets/adult_census_train.csv\n",
            "3981312/3974305 [==============================] - 0s 0us/step\n",
            "3989504/3974305 [==============================] - 0s 0us/step\n"
          ]
        }
      ]
    },
    {
      "cell_type": "markdown",
      "source": [
        "**Visualizar los datos es Facets Overview**\n",
        "\n",
        "Facets es una herramienta de visualización interactiva (con estadística descriptiva e histogramas) que puede ayudarnos a explorar nuestro conjunto de datos, oferece las mismas métricas de salida que describe(). Esta herramienta permite analizar rápidamente la distribución de valores de cada variable."
      ],
      "metadata": {
        "id": "QGKb0Z0p3Cdc"
      }
    },
    {
      "cell_type": "code",
      "source": [
        "fsg = FeatureStatisticsGenerator()\n",
        "dataframes = [\n",
        "    {'table': train_df, 'name': 'trainData'}]\n",
        "censusProto = fsg.ProtoFromDataFrames(dataframes)\n",
        "protostr = base64.b64encode(censusProto.SerializeToString()).decode(\"utf-8\")\n",
        "\n",
        "\n",
        "HTML_TEMPLATE = \"\"\"<script src=\"https://cdnjs.cloudflare.com/ajax/libs/webcomponentsjs/1.3.3/webcomponents-lite.js\"></script>\n",
        "        <link rel=\"import\" href=\"https://raw.githubusercontent.com/PAIR-code/facets/1.0.0/facets-dist/facets-jupyter.html\">\n",
        "        <facets-overview id=\"elem\"></facets-overview>\n",
        "        <script>\n",
        "          document.querySelector(\"#elem\").protoInput = \"{protostr}\";\n",
        "        </script>\"\"\"\n",
        "html = HTML_TEMPLATE.format(protostr=protostr)\n",
        "display(HTML(html))"
      ],
      "metadata": {
        "colab": {
          "base_uri": "https://localhost:8080/",
          "height": 1000
        },
        "id": "C-HloHxl23Vg",
        "outputId": "ea486e84-0a01-480a-82a8-d204c3d4696b"
      },
      "execution_count": null,
      "outputs": [
        {
          "output_type": "display_data",
          "data": {
            "text/plain": [
              "<IPython.core.display.HTML object>"
            ],
            "text/html": [
              "<script src=\"https://cdnjs.cloudflare.com/ajax/libs/webcomponentsjs/1.3.3/webcomponents-lite.js\"></script>\n",
              "        <link rel=\"import\" href=\"https://raw.githubusercontent.com/PAIR-code/facets/1.0.0/facets-dist/facets-jupyter.html\">\n",
              "        <facets-overview id=\"elem\"></facets-overview>\n",
              "        <script>\n",
              "          document.querySelector(\"#elem\").protoInput = \"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\";\n",
              "        </script>"
            ]
          },
          "metadata": {}
        }
      ]
    },
    {
      "cell_type": "markdown",
      "source": [
        "**Convertir Dataset en tensores**"
      ],
      "metadata": {
        "id": "H0KV_Wt859_T"
      }
    },
    {
      "cell_type": "code",
      "source": [
        "def pandas_to_numpy(data):\n",
        "\n",
        "  data = data.dropna(how=\"any\", axis=0)\n",
        "\n",
        "  labels = np.array(data['income_bracket'] == \">50K\")   # separar el dataset en dos Numpy arrays\n",
        "  features = data.drop('income_bracket', axis=1)\n",
        "  features = {name:np.array(value) for name, value in features.items()}\n",
        "  \n",
        "  return features, labels"
      ],
      "metadata": {
        "id": "uOJQ1Nfi47eP"
      },
      "execution_count": null,
      "outputs": []
    },
    {
      "cell_type": "markdown",
      "source": [
        "**Crear columna de variables categóricas**"
      ],
      "metadata": {
        "id": "25MQsJJ56XuZ"
      }
    },
    {
      "cell_type": "code",
      "source": [
        "occupation = tf.feature_column.categorical_column_with_hash_bucket(\n",
        "    \"occupation\", hash_bucket_size=1000)\n",
        "native_country = tf.feature_column.categorical_column_with_hash_bucket(\n",
        "    \"native_country\", hash_bucket_size=1000)\n",
        "\n",
        "gender = tf.feature_column.categorical_column_with_vocabulary_list(\n",
        "    \"gender\", [\"Female\", \"Male\"])\n",
        "race = tf.feature_column.categorical_column_with_vocabulary_list(\n",
        "    \"race\", [\n",
        "        \"White\", \"Asian-Pac-Islander\", \"Amer-Indian-Eskimo\", \"Other\", \"Black\"\n",
        "    ])\n",
        "education = tf.feature_column.categorical_column_with_vocabulary_list(\n",
        "    \"education\", [\n",
        "        \"Bachelors\", \"HS-grad\", \"11th\", \"Masters\", \"9th\",\n",
        "        \"Some-college\", \"Assoc-acdm\", \"Assoc-voc\", \"7th-8th\",\n",
        "        \"Doctorate\", \"Prof-school\", \"5th-6th\", \"10th\", \"1st-4th\",\n",
        "        \"Preschool\", \"12th\"\n",
        "    ])\n",
        "marital_status = tf.feature_column.categorical_column_with_vocabulary_list(\n",
        "    \"marital_status\", [\n",
        "        \"Married-civ-spouse\", \"Divorced\", \"Married-spouse-absent\",\n",
        "        \"Never-married\", \"Separated\", \"Married-AF-spouse\", \"Widowed\"\n",
        "    ])\n",
        "relationship = tf.feature_column.categorical_column_with_vocabulary_list(\n",
        "    \"relationship\", [\n",
        "        \"Husband\", \"Not-in-family\", \"Wife\", \"Own-child\", \"Unmarried\",\n",
        "        \"Other-relative\"\n",
        "    ])\n",
        "workclass = tf.feature_column.categorical_column_with_vocabulary_list(\n",
        "    \"workclass\", [\n",
        "        \"Self-emp-not-inc\", \"Private\", \"State-gov\", \"Federal-gov\",\n",
        "        \"Local-gov\", \"?\", \"Self-emp-inc\", \"Without-pay\", \"Never-worked\"\n",
        "    ])"
      ],
      "metadata": {
        "id": "PUon4vol6eE1"
      },
      "execution_count": null,
      "outputs": []
    },
    {
      "cell_type": "markdown",
      "source": [
        "**Crear columna de variables numéricas**"
      ],
      "metadata": {
        "id": "xivtvgiE6os6"
      }
    },
    {
      "cell_type": "code",
      "source": [
        "age = tf.feature_column.numeric_column(\"age\")\n",
        "fnlwgt = tf.feature_column.numeric_column(\"fnlwgt\")\n",
        "education_num = tf.feature_column.numeric_column(\"education_num\")\n",
        "capital_gain = tf.feature_column.numeric_column(\"capital_gain\")\n",
        "capital_loss = tf.feature_column.numeric_column(\"capital_loss\")\n",
        "hours_per_week = tf.feature_column.numeric_column(\"hours_per_week\")"
      ],
      "metadata": {
        "id": "y8_lS-C56uY9"
      },
      "execution_count": null,
      "outputs": []
    },
    {
      "cell_type": "markdown",
      "source": [
        "**Cambio de `age` a variable categórica**"
      ],
      "metadata": {
        "id": "3pktU1aR7OIB"
      }
    },
    {
      "cell_type": "code",
      "source": [
        "age_buckets = tf.feature_column.bucketized_column(\n",
        "    age, boundaries=[18, 25, 30, 35, 40, 45, 50, 55, 60, 65])"
      ],
      "metadata": {
        "id": "B3SimJK762Vl"
      },
      "execution_count": null,
      "outputs": []
    },
    {
      "cell_type": "markdown",
      "source": [
        "**Definir modelo**"
      ],
      "metadata": {
        "id": "d_G_dVb27akm"
      }
    },
    {
      "cell_type": "code",
      "source": [
        "variables = [native_country, education, occupation, workclass, \n",
        "             relationship, age_buckets]\n",
        "subgroup_variables = [gender]\n",
        "feature_columns = variables + subgroup_variables"
      ],
      "metadata": {
        "id": "yMlWBJtQ7deE"
      },
      "execution_count": null,
      "outputs": []
    },
    {
      "cell_type": "markdown",
      "source": [
        "**Entrenamiento**"
      ],
      "metadata": {
        "id": "9aPX62Wy70G_"
      }
    },
    {
      "cell_type": "code",
      "source": [
        "deep_columns = [\n",
        "    tf.feature_column.indicator_column(workclass),\n",
        "    tf.feature_column.indicator_column(education),\n",
        "    tf.feature_column.indicator_column(age_buckets),\n",
        "    tf.feature_column.indicator_column(relationship),\n",
        "    tf.feature_column.embedding_column(native_country, dimension=8),\n",
        "    tf.feature_column.embedding_column(occupation, dimension=8),\n",
        "]"
      ],
      "metadata": {
        "id": "mFwv71lf76vq"
      },
      "execution_count": null,
      "outputs": []
    },
    {
      "cell_type": "code",
      "source": [
        "#Parámetros\n",
        "HIDDEN_UNITS_LAYER_01 = 128 #@param\n",
        "HIDDEN_UNITS_LAYER_02 = 64 #@param\n",
        "LEARNING_RATE = 0.1 #@param\n",
        "L1_REGULARIZATION_STRENGTH = 0.001 #@param\n",
        "L2_REGULARIZATION_STRENGTH = 0.001 #@param\n",
        "\n",
        "RANDOM_SEED = 512\n",
        "tf.random.set_seed(RANDOM_SEED)\n",
        "\n",
        "# Lista de métricas\n",
        "METRICS = [\n",
        "  tf.keras.metrics.TruePositives(name='tp'),\n",
        "  tf.keras.metrics.FalsePositives(name='fp'),\n",
        "  tf.keras.metrics.TrueNegatives(name='tn'),\n",
        "  tf.keras.metrics.FalseNegatives(name='fn'), \n",
        "  tf.keras.metrics.BinaryAccuracy(name='accuracy'),\n",
        "  tf.keras.metrics.Precision(name='precision'),\n",
        "  tf.keras.metrics.Recall(name='recall'),\n",
        "  tf.keras.metrics.AUC(name='auc'),\n",
        "]\n",
        "\n",
        "regularizer = tf.keras.regularizers.l1_l2(\n",
        "    l1=L1_REGULARIZATION_STRENGTH, l2=L2_REGULARIZATION_STRENGTH)\n",
        "\n",
        "model = tf.keras.Sequential([\n",
        "  layers.DenseFeatures(deep_columns),\n",
        "  layers.Dense(\n",
        "      HIDDEN_UNITS_LAYER_01, activation='relu', kernel_regularizer=regularizer),\n",
        "  layers.Dense(\n",
        "      HIDDEN_UNITS_LAYER_02, activation='relu', kernel_regularizer=regularizer),\n",
        "  layers.Dense(\n",
        "      1, activation='sigmoid', kernel_regularizer=regularizer)\n",
        "])\n",
        "\n",
        "model.compile(optimizer=tf.keras.optimizers.Adagrad(LEARNING_RATE),  \n",
        "              loss=tf.keras.losses.BinaryCrossentropy(),\n",
        "              metrics=METRICS)"
      ],
      "metadata": {
        "id": "zWtQfJ9879Qc"
      },
      "execution_count": null,
      "outputs": []
    },
    {
      "cell_type": "code",
      "source": [
        "EPOCHS = 10 #@param\n",
        "BATCH_SIZE = 500 #@param\n",
        "\n",
        "features, labels = pandas_to_numpy(train_df)\n",
        "model.fit(x=features, y=labels, epochs=EPOCHS, batch_size=BATCH_SIZE)"
      ],
      "metadata": {
        "colab": {
          "base_uri": "https://localhost:8080/"
        },
        "id": "yyG4YBlz8Pqd",
        "outputId": "c796f4cf-7d23-4d17-8c5a-b88b38f52c99"
      },
      "execution_count": null,
      "outputs": [
        {
          "output_type": "stream",
          "name": "stdout",
          "text": [
            "Epoch 1/10\n",
            "WARNING:tensorflow:Layers in a Sequential model should only have a single input tensor. Received: inputs={'age': <tf.Tensor 'IteratorGetNext:0' shape=(None,) dtype=int64>, 'workclass': <tf.Tensor 'IteratorGetNext:13' shape=(None,) dtype=string>, 'fnlwgt': <tf.Tensor 'IteratorGetNext:5' shape=(None,) dtype=int64>, 'education': <tf.Tensor 'IteratorGetNext:3' shape=(None,) dtype=string>, 'education_num': <tf.Tensor 'IteratorGetNext:4' shape=(None,) dtype=int64>, 'marital_status': <tf.Tensor 'IteratorGetNext:8' shape=(None,) dtype=string>, 'occupation': <tf.Tensor 'IteratorGetNext:10' shape=(None,) dtype=string>, 'relationship': <tf.Tensor 'IteratorGetNext:12' shape=(None,) dtype=string>, 'race': <tf.Tensor 'IteratorGetNext:11' shape=(None,) dtype=string>, 'gender': <tf.Tensor 'IteratorGetNext:6' shape=(None,) dtype=string>, 'capital_gain': <tf.Tensor 'IteratorGetNext:1' shape=(None,) dtype=int64>, 'capital_loss': <tf.Tensor 'IteratorGetNext:2' shape=(None,) dtype=int64>, 'hours_per_week': <tf.Tensor 'IteratorGetNext:7' shape=(None,) dtype=int64>, 'native_country': <tf.Tensor 'IteratorGetNext:9' shape=(None,) dtype=string>}. Consider rewriting this model with the Functional API.\n",
            "WARNING:tensorflow:Layers in a Sequential model should only have a single input tensor. Received: inputs={'age': <tf.Tensor 'IteratorGetNext:0' shape=(None,) dtype=int64>, 'workclass': <tf.Tensor 'IteratorGetNext:13' shape=(None,) dtype=string>, 'fnlwgt': <tf.Tensor 'IteratorGetNext:5' shape=(None,) dtype=int64>, 'education': <tf.Tensor 'IteratorGetNext:3' shape=(None,) dtype=string>, 'education_num': <tf.Tensor 'IteratorGetNext:4' shape=(None,) dtype=int64>, 'marital_status': <tf.Tensor 'IteratorGetNext:8' shape=(None,) dtype=string>, 'occupation': <tf.Tensor 'IteratorGetNext:10' shape=(None,) dtype=string>, 'relationship': <tf.Tensor 'IteratorGetNext:12' shape=(None,) dtype=string>, 'race': <tf.Tensor 'IteratorGetNext:11' shape=(None,) dtype=string>, 'gender': <tf.Tensor 'IteratorGetNext:6' shape=(None,) dtype=string>, 'capital_gain': <tf.Tensor 'IteratorGetNext:1' shape=(None,) dtype=int64>, 'capital_loss': <tf.Tensor 'IteratorGetNext:2' shape=(None,) dtype=int64>, 'hours_per_week': <tf.Tensor 'IteratorGetNext:7' shape=(None,) dtype=int64>, 'native_country': <tf.Tensor 'IteratorGetNext:9' shape=(None,) dtype=string>}. Consider rewriting this model with the Functional API.\n",
            "61/61 [==============================] - 3s 6ms/step - loss: 1.8383 - tp: 1298.0000 - fp: 678.0000 - tn: 21976.0000 - fn: 6210.0000 - accuracy: 0.7716 - precision: 0.6569 - recall: 0.1729 - auc: 0.7895\n",
            "Epoch 2/10\n",
            "61/61 [==============================] - 0s 6ms/step - loss: 1.4138 - tp: 3721.0000 - fp: 1509.0000 - tn: 21145.0000 - fn: 3787.0000 - accuracy: 0.8244 - precision: 0.7115 - recall: 0.4956 - auc: 0.8669\n",
            "Epoch 3/10\n",
            "61/61 [==============================] - 0s 6ms/step - loss: 1.1150 - tp: 3978.0000 - fp: 1612.0000 - tn: 21042.0000 - fn: 3530.0000 - accuracy: 0.8295 - precision: 0.7116 - recall: 0.5298 - auc: 0.8756\n",
            "Epoch 4/10\n",
            "61/61 [==============================] - 0s 6ms/step - loss: 0.8828 - tp: 4004.0000 - fp: 1651.0000 - tn: 21003.0000 - fn: 3504.0000 - accuracy: 0.8291 - precision: 0.7080 - recall: 0.5333 - auc: 0.8772\n",
            "Epoch 5/10\n",
            "61/61 [==============================] - 0s 6ms/step - loss: 0.7070 - tp: 3954.0000 - fp: 1609.0000 - tn: 21045.0000 - fn: 3554.0000 - accuracy: 0.8288 - precision: 0.7108 - recall: 0.5266 - auc: 0.8778\n",
            "Epoch 6/10\n",
            "61/61 [==============================] - 0s 7ms/step - loss: 0.5833 - tp: 3947.0000 - fp: 1629.0000 - tn: 21025.0000 - fn: 3561.0000 - accuracy: 0.8279 - precision: 0.7079 - recall: 0.5257 - auc: 0.8762\n",
            "Epoch 7/10\n",
            "61/61 [==============================] - 0s 7ms/step - loss: 0.5015 - tp: 3968.0000 - fp: 1643.0000 - tn: 21011.0000 - fn: 3540.0000 - accuracy: 0.8282 - precision: 0.7072 - recall: 0.5285 - auc: 0.8762\n",
            "Epoch 8/10\n",
            "61/61 [==============================] - 0s 6ms/step - loss: 0.4548 - tp: 3962.0000 - fp: 1604.0000 - tn: 21050.0000 - fn: 3546.0000 - accuracy: 0.8293 - precision: 0.7118 - recall: 0.5277 - auc: 0.8782\n",
            "Epoch 9/10\n",
            "61/61 [==============================] - 0s 6ms/step - loss: 0.4376 - tp: 4075.0000 - fp: 1639.0000 - tn: 21015.0000 - fn: 3433.0000 - accuracy: 0.8318 - precision: 0.7132 - recall: 0.5428 - auc: 0.8790\n",
            "Epoch 10/10\n",
            "61/61 [==============================] - 0s 7ms/step - loss: 0.4291 - tp: 4035.0000 - fp: 1666.0000 - tn: 20988.0000 - fn: 3473.0000 - accuracy: 0.8296 - precision: 0.7078 - recall: 0.5374 - auc: 0.8796\n"
          ]
        },
        {
          "output_type": "execute_result",
          "data": {
            "text/plain": [
              "<keras.callbacks.History at 0x7f448856c350>"
            ]
          },
          "metadata": {},
          "execution_count": 14
        }
      ]
    },
    {
      "cell_type": "markdown",
      "source": [
        "Aparentemente, viendo los resultados no parece un mal modelo.\n",
        "\n",
        "**Evaluar el modelo**"
      ],
      "metadata": {
        "id": "EbCeD_Zf8bVt"
      }
    },
    {
      "cell_type": "code",
      "source": [
        "features, labels = pandas_to_numpy(test_df)\n",
        "model.evaluate(x=features, y=labels);"
      ],
      "metadata": {
        "colab": {
          "base_uri": "https://localhost:8080/"
        },
        "id": "_aHGtMJ582K9",
        "outputId": "d61a168e-1666-41f8-99a3-d2e821cedf87"
      },
      "execution_count": null,
      "outputs": [
        {
          "output_type": "stream",
          "name": "stdout",
          "text": [
            "WARNING:tensorflow:Layers in a Sequential model should only have a single input tensor. Received: inputs={'age': <tf.Tensor 'IteratorGetNext:0' shape=(None,) dtype=int64>, 'workclass': <tf.Tensor 'IteratorGetNext:13' shape=(None,) dtype=string>, 'fnlwgt': <tf.Tensor 'IteratorGetNext:5' shape=(None,) dtype=int64>, 'education': <tf.Tensor 'IteratorGetNext:3' shape=(None,) dtype=string>, 'education_num': <tf.Tensor 'IteratorGetNext:4' shape=(None,) dtype=int64>, 'marital_status': <tf.Tensor 'IteratorGetNext:8' shape=(None,) dtype=string>, 'occupation': <tf.Tensor 'IteratorGetNext:10' shape=(None,) dtype=string>, 'relationship': <tf.Tensor 'IteratorGetNext:12' shape=(None,) dtype=string>, 'race': <tf.Tensor 'IteratorGetNext:11' shape=(None,) dtype=string>, 'gender': <tf.Tensor 'IteratorGetNext:6' shape=(None,) dtype=string>, 'capital_gain': <tf.Tensor 'IteratorGetNext:1' shape=(None,) dtype=int64>, 'capital_loss': <tf.Tensor 'IteratorGetNext:2' shape=(None,) dtype=int64>, 'hours_per_week': <tf.Tensor 'IteratorGetNext:7' shape=(None,) dtype=int64>, 'native_country': <tf.Tensor 'IteratorGetNext:9' shape=(None,) dtype=string>}. Consider rewriting this model with the Functional API.\n",
            "943/943 [==============================] - 5s 4ms/step - loss: 0.4250 - tp: 4294.0000 - fp: 1884.0000 - tn: 20769.0000 - fn: 3214.0000 - accuracy: 0.8310 - precision: 0.6950 - recall: 0.5719 - auc: 0.8815\n"
          ]
        }
      ]
    },
    {
      "cell_type": "markdown",
      "source": [
        "Cambiando los parámetros establecidos se puede entrenar el modelo en busca de resultados mejores. Los que he obetido no son malos, pero sí mejrables. Los ingresos se han predicho con una precisión (accuracy) de un 83.10% y un AUC de 88.15% en test.\n",
        "\n",
        "### **Evaluación de la Equidad utilizando una matriz de confusión.**\n",
        "\n",
        "**Definir matriz de confusión**"
      ],
      "metadata": {
        "id": "Rv1Z2yem9E_i"
      }
    },
    {
      "cell_type": "code",
      "source": [
        "def plot_confusion_matrix(\n",
        "    confusion_matrix, class_names, subgroup, figsize = (8,6)):\n",
        " \n",
        "  df_cm = pd.DataFrame(\n",
        "      confusion_matrix, index=class_names, columns=class_names, \n",
        "  )\n",
        "\n",
        "  rcParams.update({\n",
        "  'font.family':'sans-serif',\n",
        "  'font.sans-serif':['Liberation Sans'],\n",
        "  })\n",
        "  \n",
        "  sns.set_context(\"notebook\", font_scale=1.25)\n",
        "\n",
        "  fig = plt.figure(figsize=figsize)\n",
        "\n",
        "  plt.title('Confusion Matrix for Performance Across ' + subgroup)\n",
        "\n",
        "  strings = np.asarray([['True Positives', 'False Negatives'],\n",
        "                        ['False Positives', 'True Negatives']])\n",
        "  labels = (np.asarray(\n",
        "      [\"{0:g}\\n{1}\".format(value, string) for string, value in zip(\n",
        "          strings.flatten(), confusion_matrix.flatten())])).reshape(2, 2)\n",
        "\n",
        "  heatmap = sns.heatmap(df_cm, annot=labels, fmt=\"\", \n",
        "      linewidths=2.0, cmap=sns.color_palette(\"GnBu_d\"));\n",
        "  heatmap.yaxis.set_ticklabels(\n",
        "      heatmap.yaxis.get_ticklabels(), rotation=0, ha='right')\n",
        "  heatmap.xaxis.set_ticklabels(\n",
        "      heatmap.xaxis.get_ticklabels(), rotation=45, ha='right')\n",
        "  plt.ylabel('References')\n",
        "  plt.xlabel('Predictions')\n",
        "  return fig"
      ],
      "metadata": {
        "id": "kMIoyLho-cqs"
      },
      "execution_count": null,
      "outputs": []
    },
    {
      "cell_type": "markdown",
      "source": [
        "**Visualizar la matriz de confusión binaria y calcular las métricas por subgrupo**\n",
        "\n",
        "- *Hombre*"
      ],
      "metadata": {
        "id": "w6tS-xbf-z6Z"
      }
    },
    {
      "cell_type": "code",
      "source": [
        "CATEGORY  =  \"gender\" #@param {type:\"string\"}\n",
        "SUBGROUP =  \"Male\" #@param {type:\"string\"}\n",
        "\n",
        "classes = ['Over $50K', 'Less than $50K']\n",
        "\n",
        "subgroup_filter  = test_df.loc[test_df[CATEGORY] == SUBGROUP]\n",
        "features, labels = pandas_to_numpy(subgroup_filter)\n",
        "subgroup_results = model.evaluate(x=features, y=labels, verbose=0)\n",
        "confusion_matrix = np.array([[subgroup_results[1], subgroup_results[4]], \n",
        "                             [subgroup_results[2], subgroup_results[3]]])\n",
        "\n",
        "subgroup_performance_metrics = {\n",
        "    'ACCURACY': subgroup_results[5],\n",
        "    'PRECISION': subgroup_results[6], \n",
        "    'RECALL': subgroup_results[7],\n",
        "    'AUC': subgroup_results[8]\n",
        "}\n",
        "performance_df = pd.DataFrame(subgroup_performance_metrics, index=[SUBGROUP])\n",
        "pd.options.display.float_format = '{:,.4f}'.format\n",
        "\n",
        "plot_confusion_matrix(confusion_matrix, classes, SUBGROUP);\n",
        "performance_df"
      ],
      "metadata": {
        "colab": {
          "base_uri": "https://localhost:8080/",
          "height": 542
        },
        "id": "Z6DwXnAK_Kz5",
        "outputId": "2e46c0b1-0f7c-41b9-f987-102f175d97c6"
      },
      "execution_count": null,
      "outputs": [
        {
          "output_type": "execute_result",
          "data": {
            "text/plain": [
              "      ACCURACY  PRECISION  RECALL    AUC\n",
              "Male    0.7916     0.6956  0.5974 0.8545"
            ],
            "text/html": [
              "\n",
              "  <div id=\"df-bc53c26e-0bd5-4cdc-afda-8b4399eab1ad\">\n",
              "    <div class=\"colab-df-container\">\n",
              "      <div>\n",
              "<style scoped>\n",
              "    .dataframe tbody tr th:only-of-type {\n",
              "        vertical-align: middle;\n",
              "    }\n",
              "\n",
              "    .dataframe tbody tr th {\n",
              "        vertical-align: top;\n",
              "    }\n",
              "\n",
              "    .dataframe thead th {\n",
              "        text-align: right;\n",
              "    }\n",
              "</style>\n",
              "<table border=\"1\" class=\"dataframe\">\n",
              "  <thead>\n",
              "    <tr style=\"text-align: right;\">\n",
              "      <th></th>\n",
              "      <th>ACCURACY</th>\n",
              "      <th>PRECISION</th>\n",
              "      <th>RECALL</th>\n",
              "      <th>AUC</th>\n",
              "    </tr>\n",
              "  </thead>\n",
              "  <tbody>\n",
              "    <tr>\n",
              "      <th>Male</th>\n",
              "      <td>0.7916</td>\n",
              "      <td>0.6956</td>\n",
              "      <td>0.5974</td>\n",
              "      <td>0.8545</td>\n",
              "    </tr>\n",
              "  </tbody>\n",
              "</table>\n",
              "</div>\n",
              "      <button class=\"colab-df-convert\" onclick=\"convertToInteractive('df-bc53c26e-0bd5-4cdc-afda-8b4399eab1ad')\"\n",
              "              title=\"Convert this dataframe to an interactive table.\"\n",
              "              style=\"display:none;\">\n",
              "        \n",
              "  <svg xmlns=\"http://www.w3.org/2000/svg\" height=\"24px\"viewBox=\"0 0 24 24\"\n",
              "       width=\"24px\">\n",
              "    <path d=\"M0 0h24v24H0V0z\" fill=\"none\"/>\n",
              "    <path d=\"M18.56 5.44l.94 2.06.94-2.06 2.06-.94-2.06-.94-.94-2.06-.94 2.06-2.06.94zm-11 1L8.5 8.5l.94-2.06 2.06-.94-2.06-.94L8.5 2.5l-.94 2.06-2.06.94zm10 10l.94 2.06.94-2.06 2.06-.94-2.06-.94-.94-2.06-.94 2.06-2.06.94z\"/><path d=\"M17.41 7.96l-1.37-1.37c-.4-.4-.92-.59-1.43-.59-.52 0-1.04.2-1.43.59L10.3 9.45l-7.72 7.72c-.78.78-.78 2.05 0 2.83L4 21.41c.39.39.9.59 1.41.59.51 0 1.02-.2 1.41-.59l7.78-7.78 2.81-2.81c.8-.78.8-2.07 0-2.86zM5.41 20L4 18.59l7.72-7.72 1.47 1.35L5.41 20z\"/>\n",
              "  </svg>\n",
              "      </button>\n",
              "      \n",
              "  <style>\n",
              "    .colab-df-container {\n",
              "      display:flex;\n",
              "      flex-wrap:wrap;\n",
              "      gap: 12px;\n",
              "    }\n",
              "\n",
              "    .colab-df-convert {\n",
              "      background-color: #E8F0FE;\n",
              "      border: none;\n",
              "      border-radius: 50%;\n",
              "      cursor: pointer;\n",
              "      display: none;\n",
              "      fill: #1967D2;\n",
              "      height: 32px;\n",
              "      padding: 0 0 0 0;\n",
              "      width: 32px;\n",
              "    }\n",
              "\n",
              "    .colab-df-convert:hover {\n",
              "      background-color: #E2EBFA;\n",
              "      box-shadow: 0px 1px 2px rgba(60, 64, 67, 0.3), 0px 1px 3px 1px rgba(60, 64, 67, 0.15);\n",
              "      fill: #174EA6;\n",
              "    }\n",
              "\n",
              "    [theme=dark] .colab-df-convert {\n",
              "      background-color: #3B4455;\n",
              "      fill: #D2E3FC;\n",
              "    }\n",
              "\n",
              "    [theme=dark] .colab-df-convert:hover {\n",
              "      background-color: #434B5C;\n",
              "      box-shadow: 0px 1px 3px 1px rgba(0, 0, 0, 0.15);\n",
              "      filter: drop-shadow(0px 1px 2px rgba(0, 0, 0, 0.3));\n",
              "      fill: #FFFFFF;\n",
              "    }\n",
              "  </style>\n",
              "\n",
              "      <script>\n",
              "        const buttonEl =\n",
              "          document.querySelector('#df-bc53c26e-0bd5-4cdc-afda-8b4399eab1ad button.colab-df-convert');\n",
              "        buttonEl.style.display =\n",
              "          google.colab.kernel.accessAllowed ? 'block' : 'none';\n",
              "\n",
              "        async function convertToInteractive(key) {\n",
              "          const element = document.querySelector('#df-bc53c26e-0bd5-4cdc-afda-8b4399eab1ad');\n",
              "          const dataTable =\n",
              "            await google.colab.kernel.invokeFunction('convertToInteractive',\n",
              "                                                     [key], {});\n",
              "          if (!dataTable) return;\n",
              "\n",
              "          const docLinkHtml = 'Like what you see? Visit the ' +\n",
              "            '<a target=\"_blank\" href=https://colab.research.google.com/notebooks/data_table.ipynb>data table notebook</a>'\n",
              "            + ' to learn more about interactive tables.';\n",
              "          element.innerHTML = '';\n",
              "          dataTable['output_type'] = 'display_data';\n",
              "          await google.colab.output.renderOutput(dataTable, element);\n",
              "          const docLink = document.createElement('div');\n",
              "          docLink.innerHTML = docLinkHtml;\n",
              "          element.appendChild(docLink);\n",
              "        }\n",
              "      </script>\n",
              "    </div>\n",
              "  </div>\n",
              "  "
            ]
          },
          "metadata": {},
          "execution_count": 17
        },
        {
          "output_type": "display_data",
          "data": {
            "text/plain": [
              "<Figure size 576x432 with 2 Axes>"
            ],
            "image/png": "[encoded data removed]"
          },
          "metadata": {
            "needs_background": "light"
          }
        }
      ]
    },
    {
      "cell_type": "markdown",
      "source": [
        "- *Mujer*"
      ],
      "metadata": {
        "id": "fubV7wXYAJi9"
      }
    },
    {
      "cell_type": "code",
      "source": [
        "CATEGORY  =  \"gender\" #@param {type:\"string\"}\n",
        "SUBGROUP =  \"Female\" #@param {type:\"string\"}\n",
        "\n",
        "classes = ['Over $50K', 'Less than $50K']\n",
        "\n",
        "subgroup_filter  = test_df.loc[test_df[CATEGORY] == SUBGROUP]\n",
        "features, labels = pandas_to_numpy(subgroup_filter)\n",
        "subgroup_results = model.evaluate(x=features, y=labels, verbose=0)\n",
        "confusion_matrix = np.array([[subgroup_results[1], subgroup_results[4]], \n",
        "                             [subgroup_results[2], subgroup_results[3]]])\n",
        "\n",
        "subgroup_performance_metrics = {\n",
        "    'ACCURACY': subgroup_results[5],\n",
        "    'PRECISION': subgroup_results[6], \n",
        "    'RECALL': subgroup_results[7],\n",
        "    'AUC': subgroup_results[8]\n",
        "}\n",
        "performance_df = pd.DataFrame(subgroup_performance_metrics, index=[SUBGROUP])\n",
        "pd.options.display.float_format = '{:,.4f}'.format\n",
        "\n",
        "plot_confusion_matrix(confusion_matrix, classes, SUBGROUP);\n",
        "performance_df"
      ],
      "metadata": {
        "colab": {
          "base_uri": "https://localhost:8080/",
          "height": 542
        },
        "id": "WC95VR-m_3ZS",
        "outputId": "0ea268a4-3abf-4635-8abf-e75cb10f1f58"
      },
      "execution_count": null,
      "outputs": [
        {
          "output_type": "execute_result",
          "data": {
            "text/plain": [
              "        ACCURACY  PRECISION  RECALL    AUC\n",
              "Female    0.9130     0.6905  0.4254 0.9087"
            ],
            "text/html": [
              "\n",
              "  <div id=\"df-ce15e074-df7a-4ad3-b482-1e5d87f26700\">\n",
              "    <div class=\"colab-df-container\">\n",
              "      <div>\n",
              "<style scoped>\n",
              "    .dataframe tbody tr th:only-of-type {\n",
              "        vertical-align: middle;\n",
              "    }\n",
              "\n",
              "    .dataframe tbody tr th {\n",
              "        vertical-align: top;\n",
              "    }\n",
              "\n",
              "    .dataframe thead th {\n",
              "        text-align: right;\n",
              "    }\n",
              "</style>\n",
              "<table border=\"1\" class=\"dataframe\">\n",
              "  <thead>\n",
              "    <tr style=\"text-align: right;\">\n",
              "      <th></th>\n",
              "      <th>ACCURACY</th>\n",
              "      <th>PRECISION</th>\n",
              "      <th>RECALL</th>\n",
              "      <th>AUC</th>\n",
              "    </tr>\n",
              "  </thead>\n",
              "  <tbody>\n",
              "    <tr>\n",
              "      <th>Female</th>\n",
              "      <td>0.9130</td>\n",
              "      <td>0.6905</td>\n",
              "      <td>0.4254</td>\n",
              "      <td>0.9087</td>\n",
              "    </tr>\n",
              "  </tbody>\n",
              "</table>\n",
              "</div>\n",
              "      <button class=\"colab-df-convert\" onclick=\"convertToInteractive('df-ce15e074-df7a-4ad3-b482-1e5d87f26700')\"\n",
              "              title=\"Convert this dataframe to an interactive table.\"\n",
              "              style=\"display:none;\">\n",
              "        \n",
              "  <svg xmlns=\"http://www.w3.org/2000/svg\" height=\"24px\"viewBox=\"0 0 24 24\"\n",
              "       width=\"24px\">\n",
              "    <path d=\"M0 0h24v24H0V0z\" fill=\"none\"/>\n",
              "    <path d=\"M18.56 5.44l.94 2.06.94-2.06 2.06-.94-2.06-.94-.94-2.06-.94 2.06-2.06.94zm-11 1L8.5 8.5l.94-2.06 2.06-.94-2.06-.94L8.5 2.5l-.94 2.06-2.06.94zm10 10l.94 2.06.94-2.06 2.06-.94-2.06-.94-.94-2.06-.94 2.06-2.06.94z\"/><path d=\"M17.41 7.96l-1.37-1.37c-.4-.4-.92-.59-1.43-.59-.52 0-1.04.2-1.43.59L10.3 9.45l-7.72 7.72c-.78.78-.78 2.05 0 2.83L4 21.41c.39.39.9.59 1.41.59.51 0 1.02-.2 1.41-.59l7.78-7.78 2.81-2.81c.8-.78.8-2.07 0-2.86zM5.41 20L4 18.59l7.72-7.72 1.47 1.35L5.41 20z\"/>\n",
              "  </svg>\n",
              "      </button>\n",
              "      \n",
              "  <style>\n",
              "    .colab-df-container {\n",
              "      display:flex;\n",
              "      flex-wrap:wrap;\n",
              "      gap: 12px;\n",
              "    }\n",
              "\n",
              "    .colab-df-convert {\n",
              "      background-color: #E8F0FE;\n",
              "      border: none;\n",
              "      border-radius: 50%;\n",
              "      cursor: pointer;\n",
              "      display: none;\n",
              "      fill: #1967D2;\n",
              "      height: 32px;\n",
              "      padding: 0 0 0 0;\n",
              "      width: 32px;\n",
              "    }\n",
              "\n",
              "    .colab-df-convert:hover {\n",
              "      background-color: #E2EBFA;\n",
              "      box-shadow: 0px 1px 2px rgba(60, 64, 67, 0.3), 0px 1px 3px 1px rgba(60, 64, 67, 0.15);\n",
              "      fill: #174EA6;\n",
              "    }\n",
              "\n",
              "    [theme=dark] .colab-df-convert {\n",
              "      background-color: #3B4455;\n",
              "      fill: #D2E3FC;\n",
              "    }\n",
              "\n",
              "    [theme=dark] .colab-df-convert:hover {\n",
              "      background-color: #434B5C;\n",
              "      box-shadow: 0px 1px 3px 1px rgba(0, 0, 0, 0.15);\n",
              "      filter: drop-shadow(0px 1px 2px rgba(0, 0, 0, 0.3));\n",
              "      fill: #FFFFFF;\n",
              "    }\n",
              "  </style>\n",
              "\n",
              "      <script>\n",
              "        const buttonEl =\n",
              "          document.querySelector('#df-ce15e074-df7a-4ad3-b482-1e5d87f26700 button.colab-df-convert');\n",
              "        buttonEl.style.display =\n",
              "          google.colab.kernel.accessAllowed ? 'block' : 'none';\n",
              "\n",
              "        async function convertToInteractive(key) {\n",
              "          const element = document.querySelector('#df-ce15e074-df7a-4ad3-b482-1e5d87f26700');\n",
              "          const dataTable =\n",
              "            await google.colab.kernel.invokeFunction('convertToInteractive',\n",
              "                                                     [key], {});\n",
              "          if (!dataTable) return;\n",
              "\n",
              "          const docLinkHtml = 'Like what you see? Visit the ' +\n",
              "            '<a target=\"_blank\" href=https://colab.research.google.com/notebooks/data_table.ipynb>data table notebook</a>'\n",
              "            + ' to learn more about interactive tables.';\n",
              "          element.innerHTML = '';\n",
              "          dataTable['output_type'] = 'display_data';\n",
              "          await google.colab.output.renderOutput(dataTable, element);\n",
              "          const docLink = document.createElement('div');\n",
              "          docLink.innerHTML = docLinkHtml;\n",
              "          element.appendChild(docLink);\n",
              "        }\n",
              "      </script>\n",
              "    </div>\n",
              "  </div>\n",
              "  "
            ]
          },
          "metadata": {},
          "execution_count": 18
        },
        {
          "output_type": "display_data",
          "data": {
            "text/plain": [
              "<Figure size 576x432 with 2 Axes>"
            ],
            "image/png": "[encoded data removed]"
          },
          "metadata": {
            "needs_background": "light"
          }
        }
      ]
    },
    {
      "cell_type": "markdown",
      "source": [
        "### **CONCLUSIONES**\n",
        "\n",
        "Con los parámetros predeterminados, es posible que el modelo funcione mejor para las mujeres que para los hombres. Específicamente, en nuestra ejecución, encontramos que tanto la precisión como el AUC para mujeres (0.9130 y 0.9087, respectivamente) superaron a los hombres (0.7916 y 0.8545, respectivamente). \n",
        "\n",
        "Observamos que el número de verdaderos positivos (True Positives) para las mujeres es mucho más bajo en comparación con los hombres (473 a 3821). Cuando analizamos las variables usando Facets Overview, vimos que había el doble de hombres que de mujeres (casi 2 a 1), lo que seguramente implica que, teniendo en cuenta que solo 7841 personas cobran > de $ 50.000, el número de mujeres que sobrepasen ese salario anual es relativamente bajo.\n",
        "\n",
        "Todo esto sugiere que el modelo se está sobreajustando, en particular con respecto a las mujeres y al grupo de ingresos más bajos. En otras palabras, este modelo no se generalizará bien, particularmente con datos femeninos, ya que no tiene suficientes ejemplos positivos para que el modelo aprenda. Tampoco lo está haciendo mucho mejor con los hombres, ya que hay un número desproporcionadamente pequeño de grupos de altos ingresos en comparación con los de bajos ingresos, aunque no tan mal representados como con las mujeres.\n",
        "\n",
        "Con suerte, al pasar por esta demostración de matriz de confusión, encontraremos que los resultados varían ligeramente de las métricas de rendimiento general, lo que resalta la importancia de evaluar el rendimiento del modelo en todos los subgrupos en lugar de en conjunto.\n"
      ],
      "metadata": {
        "id": "WrOAVDbGANxG"
      }
    }
  ]
}